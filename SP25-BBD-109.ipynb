{
 "cells": [
  {
   "cell_type": "code",
   "execution_count": 10,
   "id": "569a6bca-3387-451b-91c3-9e69adc247bf",
   "metadata": {},
   "outputs": [
    {
     "name": "stdout",
     "output_type": "stream",
     "text": [
      "Tangled\n",
      "shrek\n",
      "Doremon stand by\n",
      "Home alone\n",
      "Beauty and the beast\n",
      "0Tangled\n",
      "1shrek\n",
      "2Doremon stand by\n",
      "3Home alone\n",
      "4Beauty and the beast\n"
     ]
    }
   ],
   "source": [
    "#question no 1\n",
    "favourite_movies=['Tangled','shrek','Doremon stand by','Home alone','Beauty and the beast']\n",
    "for movie in favourite_movies:\n",
    "     print(movie)\n",
    "for i in range(len(favourite_movies)):\n",
    "    print(f\"{i}{favourite_movies[i]}\")"
   ]
  },
  {
   "cell_type": "code",
   "execution_count": 12,
   "id": "931498be-421b-47f5-a8a6-b3a2cb318cc0",
   "metadata": {},
   "outputs": [
    {
     "name": "stdout",
     "output_type": "stream",
     "text": [
      "S\n",
      "a\n",
      "m\n",
      "a\n",
      "v\n",
      "i\n",
      "a\n"
     ]
    }
   ],
   "source": [
    "#question no 2\n",
    "Name=\"Samavia\"\n",
    "for char in Name:\n",
    "    print(char)"
   ]
  },
  {
   "cell_type": "code",
   "execution_count": 14,
   "id": "70263192-ae9e-4a20-9adb-8cd93a50b499",
   "metadata": {},
   "outputs": [
    {
     "name": "stdout",
     "output_type": "stream",
     "text": [
      "Number of vowels : 4\n"
     ]
    }
   ],
   "source": [
    "#question no 3\n",
    "Name='samavia'\n",
    "vowels='AEIOUaeiou'\n",
    "count=sum(1 for char in Name if char in vowels)\n",
    "print('Number of vowels :',count)\n"
   ]
  },
  {
   "cell_type": "code",
   "execution_count": null,
   "id": "76cefe20-477f-4d37-9dd6-2624d2a32c1f",
   "metadata": {},
   "outputs": [],
   "source": []
  }
 ],
 "metadata": {
  "kernelspec": {
   "display_name": "Python [conda env:base] *",
   "language": "python",
   "name": "conda-base-py"
  },
  "language_info": {
   "codemirror_mode": {
    "name": "ipython",
    "version": 3
   },
   "file_extension": ".py",
   "mimetype": "text/x-python",
   "name": "python",
   "nbconvert_exporter": "python",
   "pygments_lexer": "ipython3",
   "version": "3.11.5"
  }
 },
 "nbformat": 4,
 "nbformat_minor": 5
}
